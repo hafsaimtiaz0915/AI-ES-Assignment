{
 "cells": [
  {
   "cell_type": "code",
   "execution_count": 13,
   "id": "ff057c11-1c91-4289-b73b-a2eb0cc386f5",
   "metadata": {},
   "outputs": [],
   "source": [
    "import random\n",
    "\n",
    "class TicTacToe:\n",
    "    def __init__(self):\n",
    "        self.board = [' '] * 9\n",
    "        self.current_winner = None\n",
    "\n",
    "    def print_board(self):\n",
    "        for i in range(0, 9, 3):\n",
    "            print('| ' + ' | '.join(self.board[i:i+3]) + ' |')\n",
    "\n",
    "    def available_moves(self):\n",
    "        return [i for i in range(9) if self.board[i] == ' ']\n",
    "\n",
    "    def empty_squares(self):\n",
    "        return ' ' in self.board\n",
    "\n",
    "    def make_move(self, square, letter):\n",
    "        if self.board[square] == ' ':\n",
    "            self.board[square] = letter\n",
    "            if self.check_winner(square, letter):\n",
    "                self.current_winner = letter\n",
    "            return True\n",
    "        return False\n",
    "\n",
    "    def check_winner(self, square, letter):\n",
    "        row = square // 3\n",
    "        col = square % 3\n",
    "\n",
    "        if all(self.board[row*3 + i] == letter for i in range(3)):\n",
    "            return True\n",
    "        if all(self.board[col + 3*i] == letter for i in range(3)):\n",
    "            return True\n",
    "        if square % 2 == 0:\n",
    "            if all(self.board[i] == letter for i in [0, 4, 8]) or all(self.board[i] == letter for i in [2, 4, 6]):\n",
    "                return True\n",
    "        return False"
   ]
  },
  {
   "cell_type": "code",
   "execution_count": 15,
   "id": "a50e1663-bd7e-47df-866e-c45880b8cbec",
   "metadata": {},
   "outputs": [
    {
     "name": "stdout",
     "output_type": "stream",
     "text": [
      "\n",
      "Welcome to Tic Tac Toe!\n",
      "|   |   |   |\n",
      "|   |   |   |\n",
      "|   |   |   |\n"
     ]
    },
    {
     "name": "stdin",
     "output_type": "stream",
     "text": [
      "\n",
      "Your move (0-8):  0\n"
     ]
    },
    {
     "name": "stdout",
     "output_type": "stream",
     "text": [
      "| O |   |   |\n",
      "|   |   |   |\n",
      "|   |   |   |\n",
      "\n",
      "Computer is thinking...\n",
      "Computer placed 'X' in position 8\n",
      "| O |   |   |\n",
      "|   |   |   |\n",
      "|   |   | X |\n"
     ]
    },
    {
     "name": "stdin",
     "output_type": "stream",
     "text": [
      "\n",
      "Your move (0-8):  2\n"
     ]
    },
    {
     "name": "stdout",
     "output_type": "stream",
     "text": [
      "| O |   | O |\n",
      "|   |   |   |\n",
      "|   |   | X |\n",
      "\n",
      "Computer is thinking...\n",
      "Computer placed 'X' in position 3\n",
      "| O |   | O |\n",
      "| X |   |   |\n",
      "|   |   | X |\n"
     ]
    },
    {
     "name": "stdin",
     "output_type": "stream",
     "text": [
      "\n",
      "Your move (0-8):  1\n"
     ]
    },
    {
     "name": "stdout",
     "output_type": "stream",
     "text": [
      "| O | O | O |\n",
      "| X |   |   |\n",
      "|   |   | X |\n",
      "\n",
      "You win! 🎉\n"
     ]
    }
   ],
   "source": [
    "def play_game():\n",
    "    game = TicTacToe()\n",
    "    player_letter = 'O'\n",
    "    computer_letter = 'X'\n",
    "\n",
    "    print(\"\\nWelcome to Tic Tac Toe!\")\n",
    "    game.print_board()\n",
    "\n",
    "    while game.empty_squares():\n",
    "        # Player move\n",
    "        move = None\n",
    "        while move not in game.available_moves():\n",
    "            try:\n",
    "                move = int(input(\"\\nYour move (0-8): \"))\n",
    "                if move not in game.available_moves():\n",
    "                    print(\"Invalid move! Try again.\")\n",
    "            except ValueError:\n",
    "                print(\"Please enter a number between 0-8.\")\n",
    "\n",
    "        game.make_move(move, player_letter)\n",
    "        game.print_board()\n",
    "\n",
    "        if game.current_winner:\n",
    "            print(\"\\nYou win!\")\n",
    "            return\n",
    "\n",
    "        if not game.empty_squares():\n",
    "            break\n",
    "\n",
    "        # Computer move (random)\n",
    "        print(\"\\nComputer is thinking...\")\n",
    "        move = random.choice(game.available_moves())\n",
    "        game.make_move(move, computer_letter)\n",
    "        print(f\"Computer placed '{computer_letter}' in position {move}\")\n",
    "        game.print_board()\n",
    "\n",
    "        if game.current_winner:\n",
    "            print(\"\\nComputer wins!\")\n",
    "            return\n",
    "\n",
    "    print(\"\\nIt's a tie!\")\n",
    "\n",
    "if __name__ == '__main__':\n",
    "    play_game()"
   ]
  },
  {
   "cell_type": "code",
   "execution_count": null,
   "id": "ee888050-1ea0-4440-9821-cda8bbbd1fbd",
   "metadata": {},
   "outputs": [],
   "source": []
  }
 ],
 "metadata": {
  "kernelspec": {
   "display_name": "Python [conda env:base] *",
   "language": "python",
   "name": "conda-base-py"
  },
  "language_info": {
   "codemirror_mode": {
    "name": "ipython",
    "version": 3
   },
   "file_extension": ".py",
   "mimetype": "text/x-python",
   "name": "python",
   "nbconvert_exporter": "python",
   "pygments_lexer": "ipython3",
   "version": "3.12.7"
  }
 },
 "nbformat": 4,
 "nbformat_minor": 5
}
