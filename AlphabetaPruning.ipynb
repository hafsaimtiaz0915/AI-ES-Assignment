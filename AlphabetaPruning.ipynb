{
 "cells": [
  {
   "cell_type": "code",
   "execution_count": 1,
   "id": "91792f88-bf7c-43a7-b4f0-1b6dde0c7034",
   "metadata": {},
   "outputs": [],
   "source": [
    "class TicTacToe:\n",
    "    def __init__(self):\n",
    "        self.board = [' '] * 9\n",
    "        self.current_winner = None\n",
    "\n",
    "    def print_board(self):\n",
    "        for i in range(0, 9, 3):\n",
    "            print('| ' + ' | '.join(self.board[i:i+3]) + ' |')\n",
    "\n",
    "    def available_moves(self):\n",
    "        return [i for i in range(9) if self.board[i] == ' ']\n",
    "\n",
    "    def empty_squares(self):\n",
    "        return ' ' in self.board\n",
    "\n",
    "    def make_move(self, square, letter):\n",
    "        if self.board[square] == ' ':\n",
    "            self.board[square] = letter\n",
    "            if self.check_winner(square, letter):\n",
    "                self.current_winner = letter\n",
    "            return True\n",
    "        return False\n",
    "\n",
    "    def check_winner(self, square, letter):\n",
    "        row = square // 3\n",
    "        col = square % 3\n",
    "\n",
    "        # Check row\n",
    "        if all(self.board[row*3 + i] == letter for i in range(3)):\n",
    "            return True\n",
    "\n",
    "        # Check column\n",
    "        if all(self.board[col + 3*i] == letter for i in range(3)):\n",
    "            return True\n",
    "\n",
    "        # Check diagonals\n",
    "        if square % 2 == 0:\n",
    "            if all(self.board[i] == letter for i in [0, 4, 8]) or all(self.board[i] == letter for i in [2, 4, 6]):\n",
    "                return True\n",
    "\n",
    "        return False\n"
   ]
  },
  {
   "cell_type": "code",
   "execution_count": 3,
   "id": "32f297d2-1e0d-485e-b0c2-beb27fed4b02",
   "metadata": {},
   "outputs": [],
   "source": [
    "def minimax_alpha_beta(state, player, maximizing_player, alpha=-float('inf'), beta=float('inf')):\n",
    "    max_player = maximizing_player\n",
    "    other_player = 'O' if player == 'X' else 'X'\n",
    "\n",
    "    if state.current_winner == other_player:\n",
    "        return {'position': None, 'score': 1 * (len(state.available_moves()) + 1) if other_player == max_player else -1 * (len(state.available_moves()) + 1)}\n",
    "    elif not state.empty_squares():\n",
    "        return {'position': None, 'score': 0}\n",
    "\n",
    "    if player == max_player:\n",
    "        best = {'position': None, 'score': -float('inf')}\n",
    "    else:\n",
    "        best = {'position': None, 'score': float('inf')}\n",
    "\n",
    "    for possible_move in state.available_moves():\n",
    "        state.make_move(possible_move, player)\n",
    "        sim_score = minimax_alpha_beta(state, other_player, max_player, alpha, beta)\n",
    "\n",
    "        state.board[possible_move] = ' '\n",
    "        state.current_winner = None\n",
    "        sim_score['position'] = possible_move\n",
    "\n",
    "        if player == max_player:\n",
    "            if sim_score['score'] > best['score']:\n",
    "                best = sim_score\n",
    "            alpha = max(alpha, sim_score['score'])\n",
    "        else:\n",
    "            if sim_score['score'] < best['score']:\n",
    "                best = sim_score\n",
    "            beta = min(beta, sim_score['score'])\n",
    "\n",
    "        # Pruning\n",
    "        if beta <= alpha:\n",
    "            break\n",
    "\n",
    "    return best"
   ]
  },
  {
   "cell_type": "code",
   "execution_count": 5,
   "id": "25351040-86b8-4bf8-9212-0102185e2917",
   "metadata": {},
   "outputs": [
    {
     "name": "stdout",
     "output_type": "stream",
     "text": [
      "\n",
      "Welcome to Tic Tac Toe (AI using Minimax + Alpha-Beta Pruning)!\n",
      "|   |   |   |\n",
      "|   |   |   |\n",
      "|   |   |   |\n"
     ]
    },
    {
     "name": "stdin",
     "output_type": "stream",
     "text": [
      "\n",
      "Your move (0-8):  0\n"
     ]
    },
    {
     "name": "stdout",
     "output_type": "stream",
     "text": [
      "| O |   |   |\n",
      "|   |   |   |\n",
      "|   |   |   |\n",
      "\n",
      "Computer is thinking with Alpha-Beta pruning...\n",
      "Computer placed 'X' in position 4\n",
      "| O |   |   |\n",
      "|   | X |   |\n",
      "|   |   |   |\n"
     ]
    },
    {
     "name": "stdin",
     "output_type": "stream",
     "text": [
      "\n",
      "Your move (0-8):  6\n"
     ]
    },
    {
     "name": "stdout",
     "output_type": "stream",
     "text": [
      "| O |   |   |\n",
      "|   | X |   |\n",
      "| O |   |   |\n",
      "\n",
      "Computer is thinking with Alpha-Beta pruning...\n",
      "Computer placed 'X' in position 3\n",
      "| O |   |   |\n",
      "| X | X |   |\n",
      "| O |   |   |\n"
     ]
    },
    {
     "name": "stdin",
     "output_type": "stream",
     "text": [
      "\n",
      "Your move (0-8):  5\n"
     ]
    },
    {
     "name": "stdout",
     "output_type": "stream",
     "text": [
      "| O |   |   |\n",
      "| X | X | O |\n",
      "| O |   |   |\n",
      "\n",
      "Computer is thinking with Alpha-Beta pruning...\n",
      "Computer placed 'X' in position 1\n",
      "| O | X |   |\n",
      "| X | X | O |\n",
      "| O |   |   |\n"
     ]
    },
    {
     "name": "stdin",
     "output_type": "stream",
     "text": [
      "\n",
      "Your move (0-8):  7\n"
     ]
    },
    {
     "name": "stdout",
     "output_type": "stream",
     "text": [
      "| O | X |   |\n",
      "| X | X | O |\n",
      "| O | O |   |\n",
      "\n",
      "Computer is thinking with Alpha-Beta pruning...\n",
      "Computer placed 'X' in position 8\n",
      "| O | X |   |\n",
      "| X | X | O |\n",
      "| O | O | X |\n"
     ]
    },
    {
     "name": "stdin",
     "output_type": "stream",
     "text": [
      "\n",
      "Your move (0-8):  2\n"
     ]
    },
    {
     "name": "stdout",
     "output_type": "stream",
     "text": [
      "| O | X | O |\n",
      "| X | X | O |\n",
      "| O | O | X |\n",
      "\n",
      "It's a tie!\n"
     ]
    }
   ],
   "source": [
    "def play_game_alpha_beta():\n",
    "    game = TicTacToe()\n",
    "    player_letter = 'O'  # Human\n",
    "    computer_letter = 'X'  # AI\n",
    "\n",
    "    print(\"\\nWelcome to Tic Tac Toe (AI using Minimax + Alpha-Beta Pruning)!\")\n",
    "    game.print_board()\n",
    "\n",
    "    while game.empty_squares():\n",
    "        # Player move\n",
    "        move = None\n",
    "        while move not in game.available_moves():\n",
    "            try:\n",
    "                move = int(input(\"\\nYour move (0-8): \"))\n",
    "                if move not in game.available_moves():\n",
    "                    print(\"Invalid move! Try again.\")\n",
    "            except ValueError:\n",
    "                print(\"Please enter a number between 0-8.\")\n",
    "\n",
    "        game.make_move(move, player_letter)\n",
    "        game.print_board()\n",
    "\n",
    "        if game.current_winner:\n",
    "            print(\"\\nYou win! \")\n",
    "            return\n",
    "\n",
    "        if not game.empty_squares():\n",
    "            break\n",
    "\n",
    "        # Computer move (Minimax Alpha-Beta)\n",
    "        print(\"\\nComputer is thinking with Alpha-Beta pruning...\")\n",
    "        move = minimax_alpha_beta(game, computer_letter, computer_letter)['position']\n",
    "        game.make_move(move, computer_letter)\n",
    "        print(f\"Computer placed '{computer_letter}' in position {move}\")\n",
    "        game.print_board()\n",
    "\n",
    "        if game.current_winner:\n",
    "            print(\"\\nComputer wins! \")\n",
    "            return\n",
    "\n",
    "    print(\"\\nIt's a tie!\")\n",
    "\n",
    "if __name__ == '__main__':\n",
    "    play_game_alpha_beta()\n",
    "\n"
   ]
  },
  {
   "cell_type": "code",
   "execution_count": null,
   "id": "0f00e772-ca24-4789-ab92-588fb4511d1d",
   "metadata": {},
   "outputs": [],
   "source": []
  }
 ],
 "metadata": {
  "kernelspec": {
   "display_name": "Python [conda env:base] *",
   "language": "python",
   "name": "conda-base-py"
  },
  "language_info": {
   "codemirror_mode": {
    "name": "ipython",
    "version": 3
   },
   "file_extension": ".py",
   "mimetype": "text/x-python",
   "name": "python",
   "nbconvert_exporter": "python",
   "pygments_lexer": "ipython3",
   "version": "3.12.7"
  }
 },
 "nbformat": 4,
 "nbformat_minor": 5
}
